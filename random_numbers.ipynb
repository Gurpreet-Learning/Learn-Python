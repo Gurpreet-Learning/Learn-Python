{
 "cells": [
  {
   "cell_type": "code",
   "execution_count": 1,
   "metadata": {},
   "outputs": [],
   "source": [
    "import random"
   ]
  },
  {
   "cell_type": "code",
   "execution_count": 2,
   "metadata": {},
   "outputs": [
    {
     "name": "stdout",
     "output_type": "stream",
     "text": [
      "['BPF', 'LOG4', 'NV_MAGICCONST', 'RECIP_BPF', 'Random', 'SG_MAGICCONST', 'SystemRandom', 'TWOPI', '_BuiltinMethodType', '_MethodType', '_Sequence', '_Set', '__all__', '__builtins__', '__cached__', '__doc__', '__file__', '__loader__', '__name__', '__package__', '__spec__', '_acos', '_bisect', '_ceil', '_cos', '_e', '_exp', '_inst', '_itertools', '_log', '_os', '_pi', '_random', '_sha512', '_sin', '_sqrt', '_test', '_test_generator', '_urandom', '_warn', 'betavariate', 'choice', 'choices', 'expovariate', 'gammavariate', 'gauss', 'getrandbits', 'getstate', 'lognormvariate', 'normalvariate', 'paretovariate', 'randint', 'random', 'randrange', 'sample', 'seed', 'setstate', 'shuffle', 'triangular', 'uniform', 'vonmisesvariate', 'weibullvariate']\n"
     ]
    }
   ],
   "source": [
    "print(dir(random))"
   ]
  },
  {
   "cell_type": "code",
   "execution_count": 3,
   "metadata": {},
   "outputs": [
    {
     "name": "stdout",
     "output_type": "stream",
     "text": [
      "0.7540425712026266\n",
      "0.13659583818530918\n",
      "0.05476533451247023\n",
      "0.9899007716449639\n",
      "0.470365746375043\n",
      "0.642746661760374\n",
      "0.40987529676213397\n",
      "0.7076468010266325\n",
      "0.6416984335573338\n",
      "0.9606205169757067\n"
     ]
    }
   ],
   "source": [
    "for i in range(10):\n",
    "    print(random.random())"
   ]
  },
  {
   "cell_type": "code",
   "execution_count": 4,
   "metadata": {},
   "outputs": [],
   "source": [
    "# Generate random number from interval [3,7]\n",
    "def my_random():\n",
    "    #Random, scale, shift, return...\n",
    "    return 4*random.random()+3"
   ]
  },
  {
   "cell_type": "code",
   "execution_count": 5,
   "metadata": {},
   "outputs": [
    {
     "name": "stdout",
     "output_type": "stream",
     "text": [
      "6.117386204230687\n",
      "4.91326392535605\n",
      "3.597114951252488\n",
      "6.819247635186123\n",
      "6.618796155532986\n",
      "3.126157232011025\n",
      "6.937244555060512\n",
      "3.101063764503613\n",
      "4.562331364950259\n",
      "5.019333463958596\n"
     ]
    }
   ],
   "source": [
    "for i in range(10):\n",
    "    print(my_random())"
   ]
  },
  {
   "cell_type": "code",
   "execution_count": 6,
   "metadata": {},
   "outputs": [
    {
     "name": "stdout",
     "output_type": "stream",
     "text": [
      "4.989702476723961\n",
      "4.317280759366907\n",
      "5.012362862300495\n",
      "4.620279964782181\n",
      "4.604817918204093\n",
      "6.674605642031586\n",
      "5.567446173147504\n",
      "3.018040530223405\n",
      "3.951023087422105\n",
      "4.075889770469927\n"
     ]
    }
   ],
   "source": [
    "for i in range(10):\n",
    "    print(random.uniform(3, 7))"
   ]
  },
  {
   "cell_type": "code",
   "execution_count": 10,
   "metadata": {},
   "outputs": [
    {
     "name": "stdout",
     "output_type": "stream",
     "text": [
      "5.2087145304599645\n",
      "4.943538954409631\n",
      "5.025638730003982\n",
      "5.229153258076382\n",
      "4.818160758757745\n",
      "5.416085550691168\n",
      "5.0482852036713295\n",
      "4.930541814784082\n",
      "4.775747444832344\n",
      "5.10014107557198\n",
      "5.019300184367357\n",
      "4.6640944080097695\n",
      "5.171349936787739\n",
      "4.977965763446623\n",
      "5.106098224042239\n",
      "4.910183489824461\n",
      "5.051480949291128\n",
      "5.349350101253539\n",
      "4.84181907045161\n",
      "4.874544485125786\n"
     ]
    }
   ],
   "source": [
    "for i in range(20):\n",
    "    print(random.normalvariate(5, .2))"
   ]
  },
  {
   "cell_type": "code",
   "execution_count": 11,
   "metadata": {},
   "outputs": [
    {
     "name": "stdout",
     "output_type": "stream",
     "text": [
      "6\n",
      "1\n",
      "3\n",
      "2\n",
      "2\n",
      "6\n",
      "1\n",
      "1\n",
      "4\n",
      "5\n",
      "6\n",
      "3\n",
      "1\n",
      "3\n",
      "2\n",
      "5\n",
      "4\n",
      "6\n",
      "4\n",
      "5\n"
     ]
    }
   ],
   "source": [
    "for i in range(20):\n",
    "    print(random.randint(1, 6))"
   ]
  },
  {
   "cell_type": "code",
   "execution_count": 12,
   "metadata": {},
   "outputs": [
    {
     "name": "stdout",
     "output_type": "stream",
     "text": [
      "scissors\n",
      "rock\n",
      "scissors\n",
      "scissors\n",
      "paper\n",
      "paper\n",
      "paper\n",
      "scissors\n",
      "scissors\n",
      "paper\n",
      "paper\n",
      "paper\n",
      "scissors\n",
      "rock\n",
      "paper\n",
      "paper\n",
      "scissors\n",
      "paper\n",
      "rock\n",
      "rock\n"
     ]
    }
   ],
   "source": [
    "outcomes = ['rock','paper','scissors']\n",
    "\n",
    "for i in range(20):\n",
    "    print(random.choice(outcomes))"
   ]
  },
  {
   "cell_type": "code",
   "execution_count": null,
   "metadata": {},
   "outputs": [],
   "source": []
  }
 ],
 "metadata": {
  "kernelspec": {
   "display_name": "Python 3",
   "language": "python",
   "name": "python3"
  },
  "language_info": {
   "codemirror_mode": {
    "name": "ipython",
    "version": 3
   },
   "file_extension": ".py",
   "mimetype": "text/x-python",
   "name": "python",
   "nbconvert_exporter": "python",
   "pygments_lexer": "ipython3",
   "version": "3.7.3"
  }
 },
 "nbformat": 4,
 "nbformat_minor": 2
}
